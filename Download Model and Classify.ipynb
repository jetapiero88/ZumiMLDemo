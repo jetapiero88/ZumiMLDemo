{
 "cells": [
  {
   "cell_type": "markdown",
   "metadata": {},
   "source": [
    "## Get model from the cloud"
   ]
  },
  {
   "cell_type": "code",
   "execution_count": 2,
   "metadata": {},
   "outputs": [],
   "source": [
    "from zumicloud.zumimlcloudutils import download_model_from_cloud\n",
    "\n",
    "model_zip_name = 'trafficsigns.zip' ## The name of your model goes here\n",
    "\n",
    "#downloaded = download_model_from_cloud(model_zip_name)"
   ]
  },
  {
   "cell_type": "markdown",
   "metadata": {},
   "source": [
    "## Load Model"
   ]
  },
  {
   "cell_type": "code",
   "execution_count": 3,
   "metadata": {},
   "outputs": [
    {
     "name": "stderr",
     "output_type": "stream",
     "text": [
      "/usr/lib/python3.5/importlib/_bootstrap.py:222: RuntimeWarning: compiletime version 3.4 of module 'tensorflow.python.framework.fast_tensor_util' does not match runtime version 3.5\n",
      "  return f(*args, **kwds)\n",
      "/usr/lib/python3.5/importlib/_bootstrap.py:222: RuntimeWarning: builtins.type size changed, may indicate binary incompatibility. Expected 432, got 412\n",
      "  return f(*args, **kwds)\n"
     ]
    },
    {
     "name": "stdout",
     "output_type": "stream",
     "text": [
      "model loaded in:\n",
      "0:00:37.398566\n"
     ]
    }
   ],
   "source": [
    "from tensorflow.keras.models import load_model, model_from_json\n",
    "from datetime import datetime\n",
    "\n",
    "model_name = model_zip_name.split('.')[0]\n",
    "\n",
    "start = datetime.now()\n",
    "#model = load_model('trafficsignmodel.h5')\n",
    "json_file = open(model_name + '.json','r')\n",
    "loaded_model_json = json_file.read()\n",
    "json_file.close()\n",
    "model = model_from_json(loaded_model_json)\n",
    "model.load_weights(model_name + 'weights.h5')\n",
    "stop = datetime.now()#,custom_objects={\n",
    "print('model loaded in:')\n",
    "print(stop-start)"
   ]
  },
  {
   "cell_type": "markdown",
   "metadata": {},
   "source": [
    "## Use with Zumi"
   ]
  },
  {
   "cell_type": "code",
   "execution_count": 4,
   "metadata": {},
   "outputs": [],
   "source": [
    "from zumi.util.camera import Camera\n",
    "#from zumi.util.screen import Screen\n",
    "from skimage import transform\n",
    "from skimage import exposure\n",
    "import IPython.display\n",
    "import numpy as np\n",
    "from PIL import Image\n",
    "import time\n",
    "\n",
    "camera = Camera()"
   ]
  },
  {
   "cell_type": "code",
   "execution_count": 5,
   "metadata": {
    "scrolled": false
   },
   "outputs": [
    {
     "name": "stdout",
     "output_type": "stream",
     "text": [
      "Starting PiCamera\n",
      "3...\n",
      "2...\n",
      "1...\n"
     ]
    },
    {
     "name": "stderr",
     "output_type": "stream",
     "text": [
      "/usr/local/lib/python3.5/dist-packages/skimage/util/dtype.py:135: UserWarning: Possible precision loss when converting from float64 to uint16\n",
      "  .format(dtypeobj_in, dtypeobj_out))\n"
     ]
    },
    {
     "name": "stdout",
     "output_type": "stream",
     "text": [
      "['Ahead', 'Left', 'Novehicles', 'Right', 'Stop', 'Signals']\n",
      "[[2.1201042e-05 2.7383214e-03 5.2042967e-03 3.5376003e-04 9.3201989e-01\n",
      "  5.9662484e-02]]\n"
     ]
    },
    {
     "data": {
      "image/png": "[encoded data removed]",
      "text/plain": [
       "<PIL.Image.Image image mode=RGB size=160x128 at 0x9AD8AFD0>"
      ]
     },
     "metadata": {},
     "output_type": "display_data"
    },
    {
     "name": "stdout",
     "output_type": "stream",
     "text": [
      "Stop\n",
      "Closing PiCamera\n"
     ]
    }
   ],
   "source": [
    "camera.start_camera()\n",
    "print(\"3...\")\n",
    "time.sleep(1)\n",
    "print(\"2...\")\n",
    "time.sleep(1)\n",
    "print(\"1...\")\n",
    "time.sleep(1)\n",
    "\n",
    "frame = camera.capture()\n",
    "#image = Image.fromarray(frame)\n",
    "image = transform.resize(frame, (32, 32))\n",
    "image = exposure.equalize_adapthist(image, clip_limit=0.1)\n",
    "\n",
    "\t# preprocess the image by scaling it to the range [0, 1]\n",
    "image = image.astype(\"float32\") / 255.0\n",
    "image = np.expand_dims(image, axis=0)\n",
    "\n",
    "# Get label names from training notebook\n",
    "labelNames = ['Ahead', 'Left', 'Novehicles', 'Right', 'Stop', 'Signals']\n",
    "\n",
    "start = datetime.now()\n",
    "preds = model.predict(image)\n",
    "print(labelNames)\n",
    "print(preds)\n",
    "stop = datetime.now()\n",
    "j = preds.argmax(axis=1)[0]\n",
    "label = labelNames[j]\n",
    "IPython.display.display(Image.fromarray(frame))\n",
    "#IPython.display.clear_output(wait=True) \n",
    "print(label)\n",
    "camera.close()"
   ]
  },
  {
   "cell_type": "code",
   "execution_count": 6,
   "metadata": {},
   "outputs": [
    {
     "name": "stdout",
     "output_type": "stream",
     "text": [
      "Closing PiCamera\n"
     ]
    }
   ],
   "source": [
    "camera.close()"
   ]
  },
  {
   "cell_type": "code",
   "execution_count": null,
   "metadata": {},
   "outputs": [],
   "source": []
  }
 ],
 "metadata": {
  "kernelspec": {
   "display_name": "Python 3",
   "language": "python",
   "name": "python3"
  },
  "language_info": {
   "codemirror_mode": {
    "name": "ipython",
    "version": 3
   },
   "file_extension": ".py",
   "mimetype": "text/x-python",
   "name": "python",
   "nbconvert_exporter": "python",
   "pygments_lexer": "ipython3",
   "version": "3.5.3"
  }
 },
 "nbformat": 4,
 "nbformat_minor": 2
}
