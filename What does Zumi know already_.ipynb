{
 "cells": [
  {
   "cell_type": "markdown",
   "metadata": {},
   "source": [
    "# What can Zumi recognize already?"
   ]
  },
  {
   "cell_type": "code",
   "execution_count": null,
   "metadata": {},
   "outputs": [],
   "source": [
    "from zumicloud.zumimlcloudutils import download_model_from_cloud\n",
    "\n",
    "model_zip_name = 'aheadandstop.zip' ## The name of your model goes here\n",
    "\n",
    "#downloaded = download_model_from_cloud(model_zip_name)"
   ]
  },
  {
   "cell_type": "markdown",
   "metadata": {},
   "source": [
    "### Load pretrained model"
   ]
  },
  {
   "cell_type": "code",
   "execution_count": null,
   "metadata": {},
   "outputs": [
    {
     "name": "stderr",
     "output_type": "stream",
     "text": [
      "/usr/lib/python3.5/importlib/_bootstrap.py:222: RuntimeWarning: compiletime version 3.4 of module 'tensorflow.python.framework.fast_tensor_util' does not match runtime version 3.5\n",
      "  return f(*args, **kwds)\n",
      "/usr/lib/python3.5/importlib/_bootstrap.py:222: RuntimeWarning: builtins.type size changed, may indicate binary incompatibility. Expected 432, got 412\n",
      "  return f(*args, **kwds)\n"
     ]
    }
   ],
   "source": [
    "from tensorflow.keras.models import load_model, model_from_json\n",
    "from datetime import datetime\n",
    "\n",
    "model_name = model_zip_name.split('.')[0]\n",
    "\n",
    "start = datetime.now()\n",
    "#model = load_model('trafficsignmodel.h5')\n",
    "json_file = open(model_name + '.json','r')\n",
    "loaded_model_json = json_file.read()\n",
    "json_file.close()\n",
    "model = model_from_json(loaded_model_json)\n",
    "model.load_weights(model_name + 'weights.h5')\n",
    "stop = datetime.now()#,custom_objects={\n",
    "print('model loaded in:')\n",
    "print(stop-start)"
   ]
  },
  {
   "cell_type": "markdown",
   "metadata": {},
   "source": [
    "### Test Model"
   ]
  },
  {
   "cell_type": "code",
   "execution_count": null,
   "metadata": {},
   "outputs": [],
   "source": [
    "from zumi.util.camera import Camera\n",
    "#from zumi.util.screen import Screen\n",
    "from skimage import transform\n",
    "from skimage import exposure\n",
    "import IPython.display\n",
    "import numpy as np\n",
    "from PIL import Image\n",
    "import time\n",
    "\n",
    "camera = Camera()"
   ]
  },
  {
   "cell_type": "code",
   "execution_count": null,
   "metadata": {},
   "outputs": [],
   "source": [
    "camera.start_camera()\n",
    "print(\"3...\")\n",
    "time.sleep(1)\n",
    "print(\"2...\")\n",
    "time.sleep(1)\n",
    "print(\"1...\")\n",
    "time.sleep(1)\n",
    "\n",
    "frame = camera.capture()\n",
    "#image = Image.fromarray(frame)\n",
    "image = transform.resize(frame, (32, 32))\n",
    "image = exposure.equalize_adapthist(image, clip_limit=0.1)\n",
    "\n",
    "\t# preprocess the image by scaling it to the range [0, 1]\n",
    "image = image.astype(\"float32\") / 255.0\n",
    "image = np.expand_dims(image, axis=0)\n",
    "\n",
    "# Get label names from training notebook\n",
    "labelNames = ['Ahead', 'Left', 'Novehicles', 'Right', 'Stop', 'Signals']\n",
    "\n",
    "start = datetime.now()\n",
    "preds = model.predict(image)\n",
    "print(labelNames)\n",
    "print(preds)\n",
    "stop = datetime.now()\n",
    "if max(preds[0]) > 0.6:\n",
    "\tj = preds.argmax(axis=1)[0]\n",
    "\tlabel = labelNames[j]\n",
    "\tIPython.display.display(Image.fromarray(frame))\n",
    "#IPython.display.clear_output(wait=True) \n",
    "\tprint(label)\n",
    "\tcamera.close()\n",
    "else:\n",
    "\tprint('sign not recognize')"
   ]
  }
 ],
 "metadata": {
  "kernelspec": {
   "display_name": "Python 3",
   "language": "python",
   "name": "python3"
  },
  "language_info": {
   "codemirror_mode": {
    "name": "ipython",
    "version": 3
   },
   "file_extension": ".py",
   "mimetype": "text/x-python",
   "name": "python",
   "nbconvert_exporter": "python",
   "pygments_lexer": "ipython3",
   "version": "3.5.3"
  }
 },
 "nbformat": 4,
 "nbformat_minor": 2
}
