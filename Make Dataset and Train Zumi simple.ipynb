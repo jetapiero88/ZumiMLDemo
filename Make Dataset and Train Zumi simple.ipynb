{
 "cells": [
  {
   "cell_type": "markdown",
   "metadata": {},
   "source": [
    "# Make dataset"
   ]
  },
  {
   "cell_type": "code",
   "execution_count": null,
   "metadata": {},
   "outputs": [],
   "source": [
    "#dataset making functions\n",
    "from zumi.util.camera import Camera\n",
    "from zumicloud.classiffierutils import ClassiffierUtilities as Classifier\n",
    "import os\n",
    "\n",
    "camera = Camera()\n",
    "\n",
    "dataset = 'signs'\n",
    "file_path = os.getcwd()\n",
    "labels = ['Ahead','Left','Right','Stop']\n",
    "\n",
    "classifier = Classifier(dataset, file_path, labels)\n",
    "\n",
    "    # it will make the folders for saving images likes below------------\n",
    "    # images ─ demo_name ┬ train ┬ label_A\n",
    "    #                     │       ├ lable_B\n",
    "    #                     │       └   ..\n",
    "    #                     └ test ┬ label_A\n",
    "    #                             ├ lable_B\n",
    "    #                             └   ..\n",
    "classifier.create_folders()\n",
    "\n",
    "    # choose one------------\n",
    "    # use_prediction(classifier)    # if you want to crop the card, put true after calssifiier\n",
    "classifier.take_images(camera)"
   ]
  },
  {
   "cell_type": "markdown",
   "metadata": {},
   "source": [
    "# Upload dataset to the cloud"
   ]
  },
  {
   "cell_type": "code",
   "execution_count": null,
   "metadata": {},
   "outputs": [],
   "source": [
    "from zumicloud.zumimlcloudutils import send_dataset_to_cloud\n",
    "\n",
    "dataset = 'YourDataSetHere'\n",
    "\n",
    "uploaded = send_dataset_to_cloud(dataset)\n",
    "\n",
    "if uploaded:\n",
    "    print('Your dataset was uploaded click the link on the next cell to go and train your model')"
   ]
  },
  {
   "cell_type": "markdown",
   "metadata": {},
   "source": [
    "# Go to the Machine Learning Training center"
   ]
  },
  {
   "cell_type": "markdown",
   "metadata": {},
   "source": [
    "Please click on the following link and when prompted, input as username the name of your Zumi and create a new password (suggested to use the name of your Zumi to remember easily)\n",
    "\n",
    "http://13.52.242.3/hub/user-redirect/git-pull?repo=https%3A%2F%2Fgithub.com%2Fjetapiero88%2FZumiSimple&app=notebook"
   ]
  },
  {
   "cell_type": "code",
   "execution_count": null,
   "metadata": {},
   "outputs": [],
   "source": []
  }
 ],
 "metadata": {
  "kernelspec": {
   "display_name": "Python 3",
   "language": "python",
   "name": "python3"
  },
  "language_info": {
   "codemirror_mode": {
    "name": "ipython",
    "version": 3
   },
   "file_extension": ".py",
   "mimetype": "text/x-python",
   "name": "python",
   "nbconvert_exporter": "python",
   "pygments_lexer": "ipython3",
   "version": "3.5.3"
  }
 },
 "nbformat": 4,
 "nbformat_minor": 2
}
